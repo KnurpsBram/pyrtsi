{
 "cells": [
  {
   "cell_type": "code",
   "execution_count": null,
   "metadata": {},
   "outputs": [],
   "source": [
    "import numpy as np\n",
    "import librosa\n",
    "\n",
    "import librosa.display\n",
    "\n",
    "import IPython.display as ipd\n",
    "from matplotlib import pyplot as plt\n",
    "\n",
    "from rtsi import RTSI"
   ]
  },
  {
   "cell_type": "code",
   "execution_count": null,
   "metadata": {},
   "outputs": [],
   "source": [
    "sr         = 16000\n",
    "win_length = 1024\n",
    "hop_length = 256\n",
    "\n",
    "audio, _ = librosa.load('example_audio/p229_005.wav', sr=sr)\n",
    "\n",
    "rtsi = RTSI(win_length=win_length, hop_length=hop_length)\n",
    "\n",
    "spect       = rtsi.audio_to_spect(audio)\n",
    "audio_recon = rtsi.spect_to_audio(spect)\n",
    "\n",
    "print(\"Original Audio:\")\n",
    "ipd.display(ipd.Audio(audio,       rate=sr))\n",
    "\n",
    "print(\"Spectrogram:\")\n",
    "# take the square root for visualization purposes\n",
    "librosa.display.specshow(np.sqrt(spect), sr=sr, hop_length=hop_length, x_axis='time', y_axis='linear')\n",
    "plt.show()\n",
    "\n",
    "print(\"Reconstructed Audio:\")\n",
    "ipd.display(ipd.Audio(audio_recon, rate=sr))\n"
   ]
  },
  {
   "cell_type": "code",
   "execution_count": null,
   "metadata": {},
   "outputs": [],
   "source": [
    "# use rtsi for online modifications on the magnitude spectrogram\n",
    "\n",
    "def do_cool_stuff(col):\n",
    "    # scoop low frequencies\n",
    "    col[:len(col)//16,:] = 0\n",
    "    return col\n",
    "\n",
    "audio_recon = np.zeros_like(audio)\n",
    "for i in range(0, len(audio)-win_length, hop_length):    \n",
    "    col = rtsi.audio_to_spect(audio[i:i+win_length])\n",
    "    \n",
    "    # do cool stuff to col here\n",
    "    col = do_cool_stuff(col)    \n",
    "    \n",
    "    audio_recon[i:i+hop_length] = rtsi.spect_to_audio(col) \n",
    "    \n",
    "print(\"Original Audio:\")\n",
    "ipd.display(ipd.Audio(audio, rate=sr))\n",
    "\n",
    "print(\"Modified Audio:\")\n",
    "ipd.display(ipd.Audio(audio_recon, rate=sr))"
   ]
  },
  {
   "cell_type": "code",
   "execution_count": null,
   "metadata": {},
   "outputs": [],
   "source": [
    "# use your own mic! (use headphones instead of speakers to prevent audio feedback)\n",
    "\n",
    "import sounddevice as sd \n",
    "\n",
    "n_cols    = 1\n",
    "blocksize = n_cols * hop_length\n",
    "        \n",
    "class RTSIWrapper():\n",
    "    def __init__(self, rtsi):    \n",
    "        self.rtsi = rtsi\n",
    "        \n",
    "        self.memory_length = self.rtsi.win_length - self.rtsi.hop_length \n",
    "        self.memory        = np.zeros(self.memory_length)\n",
    "        \n",
    "    def callback(self, indata, outdata, frames, time, status):  \n",
    "        \n",
    "        x = indata[:, 0] # audio comes in in shape (hop_length, 1), but must be a 1d array of length hop_length\n",
    "\n",
    "        # deal with memory (rtsi needs more audio as input than it returns as output)\n",
    "        x = np.concatenate([self.memory, x])       \n",
    "        self.memory = x[-self.memory_length:]\n",
    "\n",
    "        col = self.rtsi.audio_to_spect(x)    \n",
    "        col = do_cool_stuff(col)        \n",
    "        x   = self.rtsi.spect_to_audio(col)\n",
    "        \n",
    "        outdata[:] = x[:, None] # restore the extra dimension\n",
    "        \n",
    "rtsi_wrapper = RTSIWrapper(rtsi)\n",
    "        \n",
    "with sd.Stream(\n",
    "    device     = sd.default.device, \n",
    "    channels   = 1, \n",
    "    callback   = rtsi_wrapper.callback, \n",
    "    blocksize  = blocksize, \n",
    "    samplerate = sr\n",
    "):\n",
    "    while True:\n",
    "        response = input('Recording, Converting and Playing audio... Press \\'q\\' to quit.')\n",
    "        if response in ('', 'q', 'Q'):\n",
    "            break"
   ]
  },
  {
   "cell_type": "code",
   "execution_count": null,
   "metadata": {},
   "outputs": [],
   "source": []
  }
 ],
 "metadata": {
  "kernelspec": {
   "display_name": "Python 3",
   "language": "python",
   "name": "python3"
  },
  "language_info": {
   "codemirror_mode": {
    "name": "ipython",
    "version": 3
   },
   "file_extension": ".py",
   "mimetype": "text/x-python",
   "name": "python",
   "nbconvert_exporter": "python",
   "pygments_lexer": "ipython3",
   "version": "3.7.4"
  }
 },
 "nbformat": 4,
 "nbformat_minor": 2
}
